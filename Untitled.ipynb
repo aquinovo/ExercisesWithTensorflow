{
 "cells": [
  {
   "cell_type": "markdown",
   "metadata": {},
   "source": [
    "# Creación de una clase"
   ]
  },
  {
   "cell_type": "code",
   "execution_count": 25,
   "metadata": {},
   "outputs": [],
   "source": [
    "class Ejemplo():\n",
    "    def __init__(self, mensaje, valor):\n",
    "        print('constructor ' + mensaje)\n",
    "        self.valor = valor        \n",
    "        \n",
    "    def getValor(self):\n",
    "        print(self.valor)\n"
   ]
  },
  {
   "cell_type": "code",
   "execution_count": 26,
   "metadata": {},
   "outputs": [
    {
     "name": "stdout",
     "output_type": "stream",
     "text": [
      "constructor txt\n"
     ]
    }
   ],
   "source": [
    "c = Ejemplo('txt', 32)"
   ]
  },
  {
   "cell_type": "code",
   "execution_count": 27,
   "metadata": {},
   "outputs": [
    {
     "name": "stdout",
     "output_type": "stream",
     "text": [
      "32\n"
     ]
    }
   ],
   "source": [
    "c.getValor()"
   ]
  },
  {
   "cell_type": "code",
   "execution_count": 61,
   "metadata": {
    "collapsed": true
   },
   "outputs": [],
   "source": [
    "class AplicandoHerencia(Ejemplo):\n",
    "    \n",
    "    def __init__(self, mensaje, numero=22):\n",
    "        super().__init__( mensaje, numero)\n",
    "        print(\"extendida\")"
   ]
  },
  {
   "cell_type": "code",
   "execution_count": 62,
   "metadata": {},
   "outputs": [
    {
     "name": "stdout",
     "output_type": "stream",
     "text": [
      "constructor xholax\n",
      "extendida\n"
     ]
    }
   ],
   "source": [
    "d = AplicandoHerencia('xholax', 66)"
   ]
  },
  {
   "cell_type": "code",
   "execution_count": 63,
   "metadata": {},
   "outputs": [
    {
     "name": "stdout",
     "output_type": "stream",
     "text": [
      "66\n"
     ]
    }
   ],
   "source": [
    "d.getValor()"
   ]
  },
  {
   "cell_type": "markdown",
   "metadata": {},
   "source": [
    "# Clase operation"
   ]
  },
  {
   "cell_type": "code",
   "execution_count": 70,
   "metadata": {
    "collapsed": true
   },
   "outputs": [],
   "source": [
    "class Operation():\n",
    "    \n",
    "    def __init__(self, input_nodes=[]):\n",
    "        # se asigna un miembro input_nodes\n",
    "        self.input_nodes = input_nodes\n",
    "        #output_nodes = como lista vacia\n",
    "        self.output_nodes = []\n",
    "        \n",
    "        for node in input_nodes:\n",
    "            self.output_nodes.append(self)\n",
    "            \n",
    "        # _graph = variable global que tiene la estructura de la red\n",
    "        _graph.operations.append(self)\n",
    "        #operations es una lista de operaciones a realizar\n",
    "        \n",
    "    def compute(self):\n",
    "        ## pass = sirve para que no haga nada (como return;), \n",
    "        # el código del método se escribe más tarde\n",
    "        pass    \n",
    "        \n",
    "        \n",
    "        "
   ]
  },
  {
   "cell_type": "code",
   "execution_count": 73,
   "metadata": {
    "collapsed": true
   },
   "outputs": [],
   "source": [
    "class add(Operation):\n",
    "    def __init__(self, x, y):\n",
    "        super().__init__([x,y])\n",
    "        \n",
    "    def compute(self, xx, yy):\n",
    "        self.inputs = [xx, yy]\n",
    "        return xx + yy\n",
    "    \n",
    "    "
   ]
  },
  {
   "cell_type": "code",
   "execution_count": 76,
   "metadata": {
    "collapsed": true
   },
   "outputs": [],
   "source": [
    "class multiply(Operation):\n",
    "    def __init__(self, x, y):\n",
    "        super().__init__([x,y])\n",
    "        \n",
    "    def compute(self, xx, yy):\n",
    "        self.inputs = [xx, yy]\n",
    "        return xx * yy\n",
    "    \n",
    "    "
   ]
  },
  {
   "cell_type": "code",
   "execution_count": 80,
   "metadata": {
    "collapsed": true
   },
   "outputs": [],
   "source": [
    "class matmul(Operation):\n",
    "    \n",
    "    def __init__(self, x, y):\n",
    "        super().__init__([x, y])\n",
    "    \n",
    "    def compute(self, x,y):\n",
    "        self.inputs = [x, y]\n",
    "        #requiere que esté numpy\n",
    "        return x.dot(y)"
   ]
  },
  {
   "cell_type": "code",
   "execution_count": 82,
   "metadata": {
    "collapsed": true
   },
   "outputs": [],
   "source": [
    "class Contenedor():\n",
    "    # modela una instancia que requiere valores para procesar por el grafo\n",
    "    def __init__(self):\n",
    "        self.output_nodes =[]\n",
    "        _graph.contenedores.append(self)\n",
    "        "
   ]
  },
  {
   "cell_type": "code",
   "execution_count": 85,
   "metadata": {
    "collapsed": true
   },
   "outputs": [],
   "source": [
    "class Graph():\n",
    "    def __init__(self):\n",
    "        self.contenedores=[]\n",
    "        self.operations = []\n",
    "        self.variables =  []\n",
    "    \n",
    "    def set_as_default(self):\n",
    "        global _graph\n",
    "        _graph = self\n",
    "        \n",
    "        "
   ]
  },
  {
   "cell_type": "code",
   "execution_count": 88,
   "metadata": {},
   "outputs": [],
   "source": [
    "class Variable():\n",
    "    def  __init__(self, init_val = None):\n",
    "        self.value = init_val\n",
    "        self.output_nodes = []\n",
    "        \n",
    "        _graph.variables.append(self)\n",
    "        "
   ]
  },
  {
   "cell_type": "markdown",
   "metadata": {},
   "source": [
    "y = Ax + B\n",
    "\n",
    "x es una variable (valor cambiable) dentro del grafo\n",
    "\n",
    "A, B = son constantes\n",
    "\n",
    "$ y = Ax+b$\n",
    "\n",
    "donde A  = 10\n",
    "\n",
    "b = 1\n",
    "\n",
    "x = puede cambiar\n"
   ]
  },
  {
   "cell_type": "code",
   "execution_count": 91,
   "metadata": {
    "collapsed": true
   },
   "outputs": [],
   "source": [
    "g = Graph()"
   ]
  },
  {
   "cell_type": "code",
   "execution_count": 93,
   "metadata": {
    "collapsed": true
   },
   "outputs": [],
   "source": [
    "g.set_as_default()"
   ]
  },
  {
   "cell_type": "code",
   "execution_count": 96,
   "metadata": {
    "collapsed": true
   },
   "outputs": [],
   "source": [
    "A = Variable(10)"
   ]
  },
  {
   "cell_type": "code",
   "execution_count": 99,
   "metadata": {
    "collapsed": true
   },
   "outputs": [],
   "source": [
    "b = Variable(1)"
   ]
  },
  {
   "cell_type": "code",
   "execution_count": 102,
   "metadata": {
    "collapsed": true
   },
   "outputs": [],
   "source": [
    "x = Contenedor()"
   ]
  },
  {
   "cell_type": "code",
   "execution_count": 104,
   "metadata": {
    "collapsed": true
   },
   "outputs": [],
   "source": [
    "y = multiply(A, x)"
   ]
  },
  {
   "cell_type": "code",
   "execution_count": 105,
   "metadata": {
    "collapsed": true
   },
   "outputs": [],
   "source": [
    "z = add(y, b)"
   ]
  },
  {
   "cell_type": "code",
   "execution_count": null,
   "metadata": {
    "collapsed": true
   },
   "outputs": [],
   "source": []
  }
 ],
 "metadata": {
  "kernelspec": {
   "display_name": "Python 3",
   "language": "python",
   "name": "python3"
  },
  "language_info": {
   "codemirror_mode": {
    "name": "ipython",
    "version": 3
   },
   "file_extension": ".py",
   "mimetype": "text/x-python",
   "name": "python",
   "nbconvert_exporter": "python",
   "pygments_lexer": "ipython3",
   "version": "3.5.4"
  }
 },
 "nbformat": 4,
 "nbformat_minor": 2
}
